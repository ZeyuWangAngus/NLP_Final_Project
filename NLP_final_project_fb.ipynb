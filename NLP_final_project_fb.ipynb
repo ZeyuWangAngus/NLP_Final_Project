{
 "cells": [
  {
   "cell_type": "code",
   "execution_count": 59,
   "id": "d3f4f9a0-c794-4f07-ba30-ce277ac62e0e",
   "metadata": {},
   "outputs": [],
   "source": [
    "from os import listdir\n",
    "from os.path import isfile, join\n",
    "import json\n",
    "import pandas as pd\n",
    "import re\n",
    "from PIL import Image,ImageOps"
   ]
  },
  {
   "cell_type": "markdown",
   "id": "7829a59c-9627-4aa3-9af5-8d2814cb2b03",
   "metadata": {},
   "source": [
    "## Read Json files name"
   ]
  },
  {
   "cell_type": "code",
   "execution_count": 21,
   "id": "e29e7fd0-172e-4b91-a228-b90fbe94154f",
   "metadata": {},
   "outputs": [],
   "source": [
    "hate_data = [f for f in listdir('hateful_memes') if isfile(join('hateful_memes', f))]"
   ]
  },
  {
   "cell_type": "code",
   "execution_count": 22,
   "id": "fbf76bfe-335b-486d-b2db-cdc0667a8c4f",
   "metadata": {},
   "outputs": [
    {
     "data": {
      "text/plain": [
       "['dev_unseen.jsonl',\n",
       " 'test_seen.jsonl',\n",
       " 'dev_seen.jsonl',\n",
       " 'train.jsonl',\n",
       " 'README.md',\n",
       " 'NLP_final_projetc_fb.ipynb',\n",
       " 'LICENSE.txt',\n",
       " 'test_unseen.jsonl']"
      ]
     },
     "execution_count": 22,
     "metadata": {},
     "output_type": "execute_result"
    }
   ],
   "source": [
    "hate_data"
   ]
  },
  {
   "cell_type": "markdown",
   "id": "0038fd51-da46-4d24-b48d-f277a865a461",
   "metadata": {},
   "source": [
    "### Select json file"
   ]
  },
  {
   "cell_type": "code",
   "execution_count": 23,
   "id": "ae3a0ca4-3882-4d14-9468-dd6830156189",
   "metadata": {},
   "outputs": [],
   "source": [
    "josn_files_name = [i for i in hate_data if i.split('.')[1]=='jsonl']"
   ]
  },
  {
   "cell_type": "code",
   "execution_count": 24,
   "id": "5877d76b-78d4-4eaf-96d1-d1eaef94ee00",
   "metadata": {},
   "outputs": [
    {
     "data": {
      "text/plain": [
       "['hateful_memes/dev_unseen.jsonl',\n",
       " 'hateful_memes/test_seen.jsonl',\n",
       " 'hateful_memes/dev_seen.jsonl',\n",
       " 'hateful_memes/train.jsonl',\n",
       " 'hateful_memes/test_unseen.jsonl']"
      ]
     },
     "execution_count": 24,
     "metadata": {},
     "output_type": "execute_result"
    }
   ],
   "source": [
    "josn_files_name_complete = ['hateful_memes/'+i for i in josn_files_name]\n",
    "josn_files_name_complete"
   ]
  },
  {
   "cell_type": "markdown",
   "id": "53632959-fc47-4c91-bd23-5f07cb9c1b90",
   "metadata": {},
   "source": [
    "### read json file as dict"
   ]
  },
  {
   "cell_type": "code",
   "execution_count": 25,
   "id": "65d78dc1-ca1d-4b03-b974-f0c9bf2530d5",
   "metadata": {},
   "outputs": [],
   "source": [
    "id_list = []\n",
    "img_list = []\n",
    "lable_list = []\n",
    "text_list = []\n",
    "wrong_line = []\n",
    "for i in josn_files_name_complete:\n",
    "    f = open(i).read()\n",
    "    f_list = f.split('\\n')\n",
    "    for j in f_list:\n",
    "        try:\n",
    "            transfer_to_json = json.loads(str(j))\n",
    "            id_list.append(transfer_to_json['id'])\n",
    "            img_list.append('hateful_memes/'+transfer_to_json['img'])\n",
    "            lable_list.append(transfer_to_json['label'])\n",
    "            text_list.append(transfer_to_json['text'])\n",
    "        except:\n",
    "            wrong_line.append(j)"
   ]
  },
  {
   "cell_type": "code",
   "execution_count": 26,
   "id": "0a8286ae-3438-473c-b0ad-273df8ccc334",
   "metadata": {},
   "outputs": [
    {
     "data": {
      "text/html": [
       "<div>\n",
       "<style scoped>\n",
       "    .dataframe tbody tr th:only-of-type {\n",
       "        vertical-align: middle;\n",
       "    }\n",
       "\n",
       "    .dataframe tbody tr th {\n",
       "        vertical-align: top;\n",
       "    }\n",
       "\n",
       "    .dataframe thead th {\n",
       "        text-align: right;\n",
       "    }\n",
       "</style>\n",
       "<table border=\"1\" class=\"dataframe\">\n",
       "  <thead>\n",
       "    <tr style=\"text-align: right;\">\n",
       "      <th></th>\n",
       "      <th>id</th>\n",
       "      <th>img</th>\n",
       "      <th>lable</th>\n",
       "      <th>text</th>\n",
       "    </tr>\n",
       "  </thead>\n",
       "  <tbody>\n",
       "    <tr>\n",
       "      <th>0</th>\n",
       "      <td>76432</td>\n",
       "      <td>hateful_memes/img/76432.png</td>\n",
       "      <td>0</td>\n",
       "      <td>you thinking what i'm thinking?</td>\n",
       "    </tr>\n",
       "    <tr>\n",
       "      <th>1</th>\n",
       "      <td>14270</td>\n",
       "      <td>hateful_memes/img/14270.png</td>\n",
       "      <td>0</td>\n",
       "      <td>a brilliant mind</td>\n",
       "    </tr>\n",
       "    <tr>\n",
       "      <th>2</th>\n",
       "      <td>56947</td>\n",
       "      <td>hateful_memes/img/56947.png</td>\n",
       "      <td>0</td>\n",
       "      <td>pro gamer 6.000.000 kills, 1 death</td>\n",
       "    </tr>\n",
       "    <tr>\n",
       "      <th>3</th>\n",
       "      <td>35174</td>\n",
       "      <td>hateful_memes/img/35174.png</td>\n",
       "      <td>0</td>\n",
       "      <td>lets end poaching</td>\n",
       "    </tr>\n",
       "    <tr>\n",
       "      <th>4</th>\n",
       "      <td>39264</td>\n",
       "      <td>hateful_memes/img/39264.png</td>\n",
       "      <td>0</td>\n",
       "      <td>my wife called me a good husband thats a huge ...</td>\n",
       "    </tr>\n",
       "  </tbody>\n",
       "</table>\n",
       "</div>"
      ],
      "text/plain": [
       "      id                          img  lable  \\\n",
       "0  76432  hateful_memes/img/76432.png      0   \n",
       "1  14270  hateful_memes/img/14270.png      0   \n",
       "2  56947  hateful_memes/img/56947.png      0   \n",
       "3  35174  hateful_memes/img/35174.png      0   \n",
       "4  39264  hateful_memes/img/39264.png      0   \n",
       "\n",
       "                                                text  \n",
       "0                    you thinking what i'm thinking?  \n",
       "1                                   a brilliant mind  \n",
       "2                 pro gamer 6.000.000 kills, 1 death  \n",
       "3                                  lets end poaching  \n",
       "4  my wife called me a good husband thats a huge ...  "
      ]
     },
     "execution_count": 26,
     "metadata": {},
     "output_type": "execute_result"
    }
   ],
   "source": [
    "dataset = pd.DataFrame({'id':id_list, 'img':img_list, 'lable':lable_list, 'text':text_list})\n",
    "dataset.head()"
   ]
  },
  {
   "cell_type": "markdown",
   "id": "a9963046-3de1-46ac-b2da-7453cbdced28",
   "metadata": {},
   "source": [
    "### Split into train and test"
   ]
  },
  {
   "cell_type": "code",
   "execution_count": 27,
   "id": "8ecbd912-1988-4df9-a050-d9a5b429d7f8",
   "metadata": {},
   "outputs": [],
   "source": [
    "train = dataset.sample(frac=0.8, random_state=42)\n",
    "test = dataset.drop(train.index)"
   ]
  },
  {
   "cell_type": "code",
   "execution_count": 28,
   "id": "9f6f55e2-1e56-46e9-9d58-0ee221d97bfe",
   "metadata": {},
   "outputs": [
    {
     "data": {
      "text/html": [
       "<div>\n",
       "<style scoped>\n",
       "    .dataframe tbody tr th:only-of-type {\n",
       "        vertical-align: middle;\n",
       "    }\n",
       "\n",
       "    .dataframe tbody tr th {\n",
       "        vertical-align: top;\n",
       "    }\n",
       "\n",
       "    .dataframe thead th {\n",
       "        text-align: right;\n",
       "    }\n",
       "</style>\n",
       "<table border=\"1\" class=\"dataframe\">\n",
       "  <thead>\n",
       "    <tr style=\"text-align: right;\">\n",
       "      <th></th>\n",
       "      <th>id</th>\n",
       "      <th>img</th>\n",
       "      <th>lable</th>\n",
       "      <th>text</th>\n",
       "    </tr>\n",
       "  </thead>\n",
       "  <tbody>\n",
       "    <tr>\n",
       "      <th>9526</th>\n",
       "      <td>61928</td>\n",
       "      <td>hateful_memes/img/61928.png</td>\n",
       "      <td>0</td>\n",
       "      <td>because of this guy i have multiple profile di...</td>\n",
       "    </tr>\n",
       "    <tr>\n",
       "      <th>2984</th>\n",
       "      <td>40217</td>\n",
       "      <td>hateful_memes/img/40217.png</td>\n",
       "      <td>0</td>\n",
       "      <td>2 years on the job... 4 million jobs gained 1 ...</td>\n",
       "    </tr>\n",
       "    <tr>\n",
       "      <th>6247</th>\n",
       "      <td>76582</td>\n",
       "      <td>hateful_memes/img/76582.png</td>\n",
       "      <td>0</td>\n",
       "      <td>how my friends introduce me she's our friend a...</td>\n",
       "    </tr>\n",
       "    <tr>\n",
       "      <th>9932</th>\n",
       "      <td>93245</td>\n",
       "      <td>hateful_memes/img/93245.png</td>\n",
       "      <td>0</td>\n",
       "      <td>when you tease your husband in public</td>\n",
       "    </tr>\n",
       "    <tr>\n",
       "      <th>7354</th>\n",
       "      <td>63418</td>\n",
       "      <td>hateful_memes/img/63418.png</td>\n",
       "      <td>0</td>\n",
       "      <td>damn! who am i gonna have to fuck to get this ...</td>\n",
       "    </tr>\n",
       "  </tbody>\n",
       "</table>\n",
       "</div>"
      ],
      "text/plain": [
       "         id                          img  lable  \\\n",
       "9526  61928  hateful_memes/img/61928.png      0   \n",
       "2984  40217  hateful_memes/img/40217.png      0   \n",
       "6247  76582  hateful_memes/img/76582.png      0   \n",
       "9932  93245  hateful_memes/img/93245.png      0   \n",
       "7354  63418  hateful_memes/img/63418.png      0   \n",
       "\n",
       "                                                   text  \n",
       "9526  because of this guy i have multiple profile di...  \n",
       "2984  2 years on the job... 4 million jobs gained 1 ...  \n",
       "6247  how my friends introduce me she's our friend a...  \n",
       "9932              when you tease your husband in public  \n",
       "7354  damn! who am i gonna have to fuck to get this ...  "
      ]
     },
     "execution_count": 28,
     "metadata": {},
     "output_type": "execute_result"
    }
   ],
   "source": [
    "train.head()"
   ]
  },
  {
   "cell_type": "code",
   "execution_count": 29,
   "id": "26fabe29-aff1-4a69-9884-89153a60c731",
   "metadata": {},
   "outputs": [
    {
     "data": {
      "text/html": [
       "<div>\n",
       "<style scoped>\n",
       "    .dataframe tbody tr th:only-of-type {\n",
       "        vertical-align: middle;\n",
       "    }\n",
       "\n",
       "    .dataframe tbody tr th {\n",
       "        vertical-align: top;\n",
       "    }\n",
       "\n",
       "    .dataframe thead th {\n",
       "        text-align: right;\n",
       "    }\n",
       "</style>\n",
       "<table border=\"1\" class=\"dataframe\">\n",
       "  <thead>\n",
       "    <tr style=\"text-align: right;\">\n",
       "      <th></th>\n",
       "      <th>id</th>\n",
       "      <th>img</th>\n",
       "      <th>lable</th>\n",
       "      <th>text</th>\n",
       "    </tr>\n",
       "  </thead>\n",
       "  <tbody>\n",
       "    <tr>\n",
       "      <th>1</th>\n",
       "      <td>14270</td>\n",
       "      <td>hateful_memes/img/14270.png</td>\n",
       "      <td>0</td>\n",
       "      <td>a brilliant mind</td>\n",
       "    </tr>\n",
       "    <tr>\n",
       "      <th>4</th>\n",
       "      <td>39264</td>\n",
       "      <td>hateful_memes/img/39264.png</td>\n",
       "      <td>0</td>\n",
       "      <td>my wife called me a good husband thats a huge ...</td>\n",
       "    </tr>\n",
       "    <tr>\n",
       "      <th>5</th>\n",
       "      <td>18564</td>\n",
       "      <td>hateful_memes/img/18564.png</td>\n",
       "      <td>0</td>\n",
       "      <td>early america was cruel</td>\n",
       "    </tr>\n",
       "    <tr>\n",
       "      <th>9</th>\n",
       "      <td>51940</td>\n",
       "      <td>hateful_memes/img/51940.png</td>\n",
       "      <td>0</td>\n",
       "      <td>giving birth to a baby is one of the most memo...</td>\n",
       "    </tr>\n",
       "    <tr>\n",
       "      <th>11</th>\n",
       "      <td>30186</td>\n",
       "      <td>hateful_memes/img/30186.png</td>\n",
       "      <td>0</td>\n",
       "      <td>get you a man who will never lay a finger on y...</td>\n",
       "    </tr>\n",
       "  </tbody>\n",
       "</table>\n",
       "</div>"
      ],
      "text/plain": [
       "       id                          img  lable  \\\n",
       "1   14270  hateful_memes/img/14270.png      0   \n",
       "4   39264  hateful_memes/img/39264.png      0   \n",
       "5   18564  hateful_memes/img/18564.png      0   \n",
       "9   51940  hateful_memes/img/51940.png      0   \n",
       "11  30186  hateful_memes/img/30186.png      0   \n",
       "\n",
       "                                                 text  \n",
       "1                                    a brilliant mind  \n",
       "4   my wife called me a good husband thats a huge ...  \n",
       "5                             early america was cruel  \n",
       "9   giving birth to a baby is one of the most memo...  \n",
       "11  get you a man who will never lay a finger on y...  "
      ]
     },
     "execution_count": 29,
     "metadata": {},
     "output_type": "execute_result"
    }
   ],
   "source": [
    "test.head()"
   ]
  },
  {
   "cell_type": "markdown",
   "id": "ba1d882e-fbfa-4062-b637-d720d6cc98e4",
   "metadata": {},
   "source": [
    "### let image size become same"
   ]
  },
  {
   "cell_type": "code",
   "execution_count": 67,
   "id": "6129548d-acce-4620-94c4-0d315df78dac",
   "metadata": {},
   "outputs": [],
   "source": [
    "def padding(img, expected_size):\n",
    "    desired_size = expected_size\n",
    "    delta_width = desired_size - img.size[0]\n",
    "    delta_height = desired_size - img.size[1]\n",
    "    pad_width = delta_width // 2\n",
    "    pad_height = delta_height // 2\n",
    "    padding = (pad_width, pad_height, delta_width - pad_width, delta_height - pad_height)\n",
    "    return ImageOps.expand(img, padding)"
   ]
  },
  {
   "cell_type": "code",
   "execution_count": 68,
   "id": "1fd7ae97-c49c-4421-96e8-baf6088442bf",
   "metadata": {},
   "outputs": [],
   "source": [
    "def resize_with_padding(img, expected_size):\n",
    "    img.thumbnail((expected_size[0], expected_size[1]))\n",
    "    # print(img.size)\n",
    "    delta_width = expected_size[0] - img.size[0]\n",
    "    delta_height = expected_size[1] - img.size[1]\n",
    "    pad_width = delta_width // 2\n",
    "    pad_height = delta_height // 2\n",
    "    padding = (pad_width, pad_height, delta_width - pad_width, delta_height - pad_height)\n",
    "    return ImageOps.expand(img, padding)"
   ]
  },
  {
   "cell_type": "code",
   "execution_count": 98,
   "id": "1559f8a6-b382-4f5f-975c-4d1df650e4b2",
   "metadata": {},
   "outputs": [],
   "source": [
    "train_label = list(train.lable)\n",
    "test_label = list(test.lable)\n",
    "train_img = list(train.img)\n",
    "test_img = list(test.img)"
   ]
  },
  {
   "cell_type": "markdown",
   "id": "2ec98224-2529-4bff-b3e9-c5370e2b4de5",
   "metadata": {},
   "source": [
    "0=not-hateful, 1=hateful"
   ]
  },
  {
   "cell_type": "code",
   "execution_count": 102,
   "id": "23ed407f-09a2-417d-822d-1aa6e196b630",
   "metadata": {},
   "outputs": [],
   "source": [
    "for i in range(len(train_img)):\n",
    "    imag1 = Image.open(train_img[i])\n",
    "    imag1 = resize_with_padding(imag1, (1000, 1000))\n",
    "    if train_label[i]==1:\n",
    "        imag1.save(\"fb_train/hate/\"+(train_img[i].split('/'))[-1], 'PNG')\n",
    "    else:\n",
    "        imag1.save(\"fb_train/nothate/\"+(train_img[i].split('/'))[-1], 'PNG')\n",
    "        \n",
    "for i in range(len(test_img)):\n",
    "    imag1 = Image.open(test_img[i])\n",
    "    imag1 = resize_with_padding(imag1, (1000, 1000))\n",
    "    if test_label[i]==1:\n",
    "        imag1.save(\"fb_test/hate/\"+(test_img[i].split('/'))[-1], 'PNG')\n",
    "    else:\n",
    "        imag1.save(\"fb_test/nothate/\"+(test_img[i].split('/'))[-1], 'PNG')"
   ]
  },
  {
   "cell_type": "markdown",
   "id": "6d93b602-1c45-4455-8da5-7d4ab4e0fb59",
   "metadata": {},
   "source": [
    "# 1. Image Classification"
   ]
  },
  {
   "cell_type": "markdown",
   "id": "b483602d-05b8-4a50-8544-d09190f10213",
   "metadata": {},
   "source": [
    "## Build model"
   ]
  },
  {
   "cell_type": "code",
   "execution_count": 1,
   "id": "32ae1bbf-9bfb-4be3-bea0-92e72c79efce",
   "metadata": {},
   "outputs": [],
   "source": [
    "from keras.models import Sequential\n",
    "from keras.layers import Conv2D, MaxPool2D, Flatten, Dense\n",
    "from tensorflow import random\n",
    "import numpy as np"
   ]
  },
  {
   "cell_type": "code",
   "execution_count": 2,
   "id": "30420bbc-4f98-417f-943f-b89376a66c05",
   "metadata": {},
   "outputs": [
    {
     "name": "stdout",
     "output_type": "stream",
     "text": [
      "Metal device set to: Apple M1\n"
     ]
    },
    {
     "name": "stderr",
     "output_type": "stream",
     "text": [
      "2021-12-20 23:57:37.199124: I tensorflow/core/common_runtime/pluggable_device/pluggable_device_factory.cc:305] Could not identify NUMA node of platform GPU ID 0, defaulting to 0. Your kernel may not have been built with NUMA support.\n",
      "2021-12-20 23:57:37.199463: I tensorflow/core/common_runtime/pluggable_device/pluggable_device_factory.cc:271] Created TensorFlow device (/job:localhost/replica:0/task:0/device:GPU:0 with 0 MB memory) -> physical PluggableDevice (device: 0, name: METAL, pci bus id: <undefined>)\n"
     ]
    }
   ],
   "source": [
    "seed = 1\n",
    "np.random.seed(seed)\n",
    "random.set_seed(seed)\n",
    "classifier = Sequential()"
   ]
  },
  {
   "cell_type": "code",
   "execution_count": 3,
   "id": "83ae2b3d-9d1a-4b56-8459-944a67b1c969",
   "metadata": {},
   "outputs": [],
   "source": [
    "classifier.add(Conv2D(128, 3, 3, input_shape = (1000, 1000, 3), activation = 'relu'))\n",
    "classifier.add(Conv2D(64, 3, 3, activation = 'relu'))\n",
    "classifier.add(Conv2D(32, 3, 3, activation = 'relu'))\n",
    "classifier.add(MaxPool2D(2,2))\n",
    "classifier.add(Conv2D(16, 3, 3, activation = 'relu'))\n",
    "classifier.add(MaxPool2D(pool_size = (2,2)))\n",
    "classifier.add(Flatten())\n",
    "classifier.add(Dense(1024, activation='relu'))\n",
    "classifier.add(Dense(512, activation='relu'))\n",
    "classifier.add(Dense(256, activation='relu'))\n",
    "classifier.add(Dense(128, activation='relu'))\n",
    "classifier.add(Dense(1, activation='sigmoid'))"
   ]
  },
  {
   "cell_type": "code",
   "execution_count": 4,
   "id": "da946cac-04b7-45d7-afe7-9bd22c48eadf",
   "metadata": {},
   "outputs": [],
   "source": [
    "classifier.compile(optimizer='adam', loss='binary_crossentropy', metrics=['accuracy'])"
   ]
  },
  {
   "cell_type": "code",
   "execution_count": 5,
   "id": "b2f4e811-7a37-4e79-b4d6-ddae50779bb9",
   "metadata": {},
   "outputs": [],
   "source": [
    "from keras.preprocessing.image import ImageDataGenerator"
   ]
  },
  {
   "cell_type": "code",
   "execution_count": 6,
   "id": "e90212e1-60a0-4792-b897-997067891ea1",
   "metadata": {},
   "outputs": [],
   "source": [
    "train_datagen = ImageDataGenerator(rescale = 1./255, shear_range=0.2, zoom_range=0.2, horizontal_flip=True)\n",
    "test_datagen = ImageDataGenerator(rescale=1./255)"
   ]
  },
  {
   "cell_type": "code",
   "execution_count": 7,
   "id": "ace98fe0-5739-4bfb-a63d-8cc3c0aa32d3",
   "metadata": {},
   "outputs": [
    {
     "name": "stdout",
     "output_type": "stream",
     "text": [
      "Found 9766 images belonging to 3 classes.\n"
     ]
    }
   ],
   "source": [
    "training_set = train_datagen.flow_from_directory('fb_train', target_size=(1000, 1000), batch_size=32, class_mode='binary')"
   ]
  },
  {
   "cell_type": "code",
   "execution_count": 8,
   "id": "9784b44f-433d-4312-b92a-b6dbb6539c2f",
   "metadata": {},
   "outputs": [
    {
     "name": "stdout",
     "output_type": "stream",
     "text": [
      "Found 2494 images belonging to 3 classes.\n"
     ]
    }
   ],
   "source": [
    "test_set = train_datagen.flow_from_directory('fb_test', target_size=(1000, 1000), batch_size=32, class_mode='binary')"
   ]
  },
  {
   "cell_type": "code",
   "execution_count": 9,
   "id": "8b83b946-28ee-4944-bd48-0908c04cc9a7",
   "metadata": {},
   "outputs": [
    {
     "name": "stderr",
     "output_type": "stream",
     "text": [
      "/var/folders/0f/brs6kj9d6bbftjh0sk1763yh0000gn/T/ipykernel_87137/3259515234.py:1: UserWarning: `Model.fit_generator` is deprecated and will be removed in a future version. Please use `Model.fit`, which supports generators.\n",
      "  classifier.fit_generator(training_set, steps_per_epoch=100, epochs=20, validation_data=test_set, validation_steps=1000, shuffle=False)\n",
      "2021-12-20 23:57:44.791192: W tensorflow/core/platform/profile_utils/cpu_utils.cc:128] Failed to get CPU frequency: 0 Hz\n",
      "2021-12-20 23:57:44.979207: I tensorflow/core/grappler/optimizers/custom_graph_optimizer_registry.cc:112] Plugin optimizer for device_type GPU is enabled.\n"
     ]
    },
    {
     "name": "stdout",
     "output_type": "stream",
     "text": [
      "Epoch 1/20\n",
      "100/100 [==============================] - ETA: 0s - loss: -548788011008.0000 - accuracy: 0.3644"
     ]
    },
    {
     "name": "stderr",
     "output_type": "stream",
     "text": [
      "2021-12-21 00:03:25.774321: I tensorflow/core/grappler/optimizers/custom_graph_optimizer_registry.cc:112] Plugin optimizer for device_type GPU is enabled.\n"
     ]
    },
    {
     "name": "stdout",
     "output_type": "stream",
     "text": [
      "WARNING:tensorflow:Your input ran out of data; interrupting training. Make sure that your dataset or generator can generate at least `steps_per_epoch * epochs` batches (in this case, 1000 batches). You may need to use the repeat() function when building your dataset.\n",
      "100/100 [==============================] - 603s 6s/step - loss: -548788011008.0000 - accuracy: 0.3644 - val_loss: -8382522589184.0000 - val_accuracy: 0.3825\n",
      "Epoch 2/20\n",
      "100/100 [==============================] - 337s 3s/step - loss: -11151900837675008.0000 - accuracy: 0.3547\n",
      "Epoch 3/20\n",
      "100/100 [==============================] - 336s 3s/step - loss: -2648064903847346176.0000 - accuracy: 0.3666\n",
      "Epoch 4/20\n",
      "100/100 [==============================] - 337s 3s/step - loss: -106488871030477553664.0000 - accuracy: 0.3691\n",
      "Epoch 5/20\n",
      "100/100 [==============================] - 337s 3s/step - loss: -1491605848121478742016.0000 - accuracy: 0.3709\n",
      "Epoch 6/20\n",
      "100/100 [==============================] - 339s 3s/step - loss: -9668619288114853052416.0000 - accuracy: 0.3675\n",
      "Epoch 7/20\n",
      "100/100 [==============================] - 338s 3s/step - loss: -42556589038452034502656.0000 - accuracy: 0.3719\n",
      "Epoch 8/20\n",
      "100/100 [==============================] - 338s 3s/step - loss: -133116154792319966511104.0000 - accuracy: 0.3706\n",
      "Epoch 9/20\n",
      "100/100 [==============================] - 338s 3s/step - loss: -258799784932409780207616.0000 - accuracy: 0.3803\n",
      "Epoch 10/20\n",
      "100/100 [==============================] - 338s 3s/step - loss: -437276213186003891912704.0000 - accuracy: 0.3694\n",
      "Epoch 11/20\n",
      "100/100 [==============================] - 340s 3s/step - loss: -625789219453967815147520.0000 - accuracy: 0.3769\n",
      "Epoch 12/20\n",
      "100/100 [==============================] - 337s 3s/step - loss: -859672605260769702969344.0000 - accuracy: 0.3688\n",
      "Epoch 13/20\n",
      "100/100 [==============================] - 342s 3s/step - loss: -1056904688493713963352064.0000 - accuracy: 0.3778\n",
      "Epoch 14/20\n",
      "100/100 [==============================] - 339s 3s/step - loss: -1382045486327443723649024.0000 - accuracy: 0.3547\n",
      "Epoch 15/20\n",
      "100/100 [==============================] - 337s 3s/step - loss: -1608813328838188303646720.0000 - accuracy: 0.3862\n",
      "Epoch 16/20\n",
      "100/100 [==============================] - 341s 3s/step - loss: -1969709321006320019570688.0000 - accuracy: 0.3759\n",
      "Epoch 17/20\n",
      "100/100 [==============================] - 344s 3s/step - loss: -2359358599038594195652608.0000 - accuracy: 0.3650\n",
      "Epoch 18/20\n",
      "100/100 [==============================] - 337s 3s/step - loss: -2677382052136415699927040.0000 - accuracy: 0.3731\n",
      "Epoch 19/20\n",
      "100/100 [==============================] - 340s 3s/step - loss: -3037940670649261837254656.0000 - accuracy: 0.3625\n",
      "Epoch 20/20\n",
      "100/100 [==============================] - 337s 3s/step - loss: -3368892553154180295950336.0000 - accuracy: 0.3700\n"
     ]
    },
    {
     "data": {
      "text/plain": [
       "<keras.callbacks.History at 0x1725a5e80>"
      ]
     },
     "execution_count": 9,
     "metadata": {},
     "output_type": "execute_result"
    }
   ],
   "source": [
    "classifier.fit_generator(training_set, steps_per_epoch=100, epochs=20, validation_data=test_set, validation_steps=1000, shuffle=False)"
   ]
  },
  {
   "cell_type": "markdown",
   "id": "8255f249-7f3c-42fa-89e3-1f7781c47179",
   "metadata": {},
   "source": [
    "## Sava and load model"
   ]
  },
  {
   "cell_type": "code",
   "execution_count": 13,
   "id": "c73d59db-4435-4177-8918-0900fbbfa219",
   "metadata": {},
   "outputs": [
    {
     "name": "stderr",
     "output_type": "stream",
     "text": [
      "2021-12-21 02:16:02.621660: W tensorflow/python/util/util.cc:368] Sets are not currently considered sequences, but this may change in the future, so consider avoiding using them.\n"
     ]
    },
    {
     "name": "stdout",
     "output_type": "stream",
     "text": [
      "INFO:tensorflow:Assets written to: saved_model/nlp_final_image/assets\n"
     ]
    }
   ],
   "source": [
    "classifier.save('saved_model/nlp_final_image')"
   ]
  },
  {
   "cell_type": "code",
   "execution_count": 56,
   "id": "03f1b809-ae6c-4e6f-8c57-ac39f103f440",
   "metadata": {},
   "outputs": [],
   "source": [
    "new_model = tf.keras.models.load_model('saved_model/nlp_final_image')"
   ]
  },
  {
   "cell_type": "code",
   "execution_count": 57,
   "id": "cc669d2d-61a5-4954-ac8e-1a72f39280a3",
   "metadata": {},
   "outputs": [
    {
     "name": "stdout",
     "output_type": "stream",
     "text": [
      "Model: \"sequential\"\n",
      "_________________________________________________________________\n",
      " Layer (type)                Output Shape              Param #   \n",
      "=================================================================\n",
      " conv2d (Conv2D)             (None, 333, 333, 128)     3584      \n",
      "                                                                 \n",
      " conv2d_1 (Conv2D)           (None, 111, 111, 64)      73792     \n",
      "                                                                 \n",
      " conv2d_2 (Conv2D)           (None, 37, 37, 32)        18464     \n",
      "                                                                 \n",
      " max_pooling2d (MaxPooling2D  (None, 18, 18, 32)       0         \n",
      " )                                                               \n",
      "                                                                 \n",
      " conv2d_3 (Conv2D)           (None, 6, 6, 16)          4624      \n",
      "                                                                 \n",
      " max_pooling2d_1 (MaxPooling  (None, 3, 3, 16)         0         \n",
      " 2D)                                                             \n",
      "                                                                 \n",
      " flatten (Flatten)           (None, 144)               0         \n",
      "                                                                 \n",
      " dense (Dense)               (None, 1024)              148480    \n",
      "                                                                 \n",
      " dense_1 (Dense)             (None, 512)               524800    \n",
      "                                                                 \n",
      " dense_2 (Dense)             (None, 256)               131328    \n",
      "                                                                 \n",
      " dense_3 (Dense)             (None, 128)               32896     \n",
      "                                                                 \n",
      " dense_4 (Dense)             (None, 1)                 129       \n",
      "                                                                 \n",
      "=================================================================\n",
      "Total params: 938,097\n",
      "Trainable params: 938,097\n",
      "Non-trainable params: 0\n",
      "_________________________________________________________________\n"
     ]
    }
   ],
   "source": [
    "new_model.summary()"
   ]
  },
  {
   "cell_type": "markdown",
   "id": "63506261-00c2-4890-96f7-002bdc54ed2e",
   "metadata": {},
   "source": [
    "## Prediction"
   ]
  },
  {
   "cell_type": "code",
   "execution_count": 62,
   "id": "57cc04fe-b43b-4fe0-89ba-71a8ee0f2391",
   "metadata": {},
   "outputs": [],
   "source": [
    "from keras.preprocessing import image"
   ]
  },
  {
   "cell_type": "code",
   "execution_count": 64,
   "id": "a12f41e8-928f-40a1-9517-4a34eb205436",
   "metadata": {},
   "outputs": [],
   "source": [
    "new_image = image.load_img('test/hate/098f8e5f97e5668547e70ad803e27923--macros-shake.jpg')"
   ]
  },
  {
   "cell_type": "code",
   "execution_count": 65,
   "id": "e9d4d1b6-93f2-4d14-9a88-e9713ea8356f",
   "metadata": {},
   "outputs": [],
   "source": [
    "new_image = image.img_to_array(new_image)"
   ]
  },
  {
   "cell_type": "code",
   "execution_count": 70,
   "id": "780dba26-d299-485b-baf4-6949a4a0f835",
   "metadata": {},
   "outputs": [],
   "source": [
    "new_imag1 = np.expand_dims(new_image, axis=0)"
   ]
  },
  {
   "cell_type": "code",
   "execution_count": 72,
   "id": "d5eb27f6-ce08-41ee-a685-a8f5d2cb6578",
   "metadata": {},
   "outputs": [
    {
     "name": "stderr",
     "output_type": "stream",
     "text": [
      "2021-12-21 03:37:24.989744: I tensorflow/core/grappler/optimizers/custom_graph_optimizer_registry.cc:112] Plugin optimizer for device_type GPU is enabled.\n"
     ]
    }
   ],
   "source": [
    "result = new_model.predict(new_imag1)"
   ]
  },
  {
   "cell_type": "code",
   "execution_count": 73,
   "id": "b4a99f8e-9a75-4408-a003-3525b6d3ccb6",
   "metadata": {},
   "outputs": [
    {
     "name": "stdout",
     "output_type": "stream",
     "text": [
      "Is hate\n"
     ]
    }
   ],
   "source": [
    "if result[0][0] == 1:\n",
    "    print(f'Is hate')\n",
    "else:\n",
    "    print(f'not hate')"
   ]
  },
  {
   "cell_type": "markdown",
   "id": "5deb18d6-c6d8-47ff-b0ce-d8820174a302",
   "metadata": {},
   "source": [
    "# 2. Text"
   ]
  },
  {
   "cell_type": "code",
   "execution_count": 31,
   "id": "34968ead-d010-4a22-8cb2-b95731105abc",
   "metadata": {},
   "outputs": [],
   "source": [
    "train.to_csv('nlp_fb_train.csv')"
   ]
  },
  {
   "cell_type": "code",
   "execution_count": 32,
   "id": "228105f3-9f5c-47b6-a703-5d9d896e8042",
   "metadata": {},
   "outputs": [],
   "source": [
    "test.to_csv('nlp_fb_test.csv')"
   ]
  },
  {
   "cell_type": "code",
   "execution_count": null,
   "id": "5edc2c01-e971-4da4-9a33-85d5a37e9c17",
   "metadata": {},
   "outputs": [],
   "source": []
  }
 ],
 "metadata": {
  "kernelspec": {
   "display_name": "Python 3 (ipykernel)",
   "language": "python",
   "name": "python3"
  },
  "language_info": {
   "codemirror_mode": {
    "name": "ipython",
    "version": 3
   },
   "file_extension": ".py",
   "mimetype": "text/x-python",
   "name": "python",
   "nbconvert_exporter": "python",
   "pygments_lexer": "ipython3",
   "version": "3.9.5"
  }
 },
 "nbformat": 4,
 "nbformat_minor": 5
}
